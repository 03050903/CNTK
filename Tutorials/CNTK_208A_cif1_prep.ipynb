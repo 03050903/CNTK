{
 "cells": [
  {
   "cell_type": "markdown",
   "metadata": {},
   "source": [
    "# CNTK 208 Time Series Density Forecasting with Residual LSTM, \n",
    "## Part A: Data Loading and Preprocessig\n",
    "\n",
    "This is the first part of tutorial that shows a full cycle of working with time series. We will also show how to create and use a custom loss function to enable a neural network to perform Density Forecasting or Quantile Regression.\n",
    "In this part we will download and preprocess and save the data, as the preprocessing may take a considerable amount of time.\n",
    "\n",
    "## Forecasting time series with neural networks\n",
    "Neural networks have the ability to learn mapping from inputs to outputs in broad range of situations, and therefore, with proper data preprocessing, can also be used for time series forecasting. However, as a rule, they use a lot of parameters, and a single short time series does not provide enough data for the successful training. This problem can be alleviated by learning across many time series, but if using standard (non-recurrent) neural networks, this may not be a good strategy – the series may diverge a lot for similar past values. However, Recurrent Neural Networks (RNNs) have an internal state, and may learn to respond (forecast) differently series with similar short-term histories, but with dissimilar long-term histories. One of the most attractive RNNs with good long-term memory is Long Short-Term Memory network. An LSTM can be viewed as a powerful and complicated, nonetheless a single layer neural network, see a great introduction at http://colah.github.io/posts/2015-08-Understanding-LSTMs.\n",
    "\n",
    "We will be working with a dataset from a recent Computational Intelligence in Forecasting International Time Series Competition 2016 [CIF2016]. The\n",
    "author won this competition with a solution that used R's *stl* funtion to deseasnalize the data. Here we will use a similar Python function from package *seasonal*.   \n",
    "\n",
    "[CIF2016]: http://irafm.osu.cz/cif"
   ]
  },
  {
   "cell_type": "code",
   "execution_count": 1,
   "metadata": {
    "collapsed": false
   },
   "outputs": [
    {
     "name": "stdout",
     "output_type": "stream",
     "text": [
      "Collecting seasonal\n",
      "  Using cached seasonal-0.3.1-py2.py3-none-any.whl\n",
      "Requirement already satisfied (use --upgrade to upgrade): scipy in c:\\users\\sayanpa\\appdata\\local\\continuum\\anaconda3\\envs\\cntk-py35\\lib\\site-packages (from seasonal)\n",
      "Requirement already satisfied (use --upgrade to upgrade): numpy in c:\\users\\sayanpa\\appdata\\local\\continuum\\anaconda3\\envs\\cntk-py35\\lib\\site-packages (from seasonal)\n",
      "Installing collected packages: seasonal\n",
      "Successfully installed seasonal-0.3.1\n"
     ]
    },
    {
     "name": "stderr",
     "output_type": "stream",
     "text": [
      "You are using pip version 8.1.2, however version 9.0.1 is available.\n",
      "You should consider upgrading via the 'python -m pip install --upgrade pip' command.\n"
     ]
    }
   ],
   "source": [
    "# Import the relevant modules to be used later\n",
    "import pandas as pd\n",
    "import numpy as np\n",
    "import pip\n",
    "try:\n",
    "  from seasonal import fit_seasons, adjust_seasons\n",
    "except:\n",
    "  pip.main(['install', 'seasonal'])\n",
    "  from seasonal import fit_seasons, adjust_seasons\n",
    "import matplotlib.pyplot as plt\n",
    "import math as m\n",
    "import random\n",
    "import os\n",
    "\n",
    "# Config matplotlib for inline plotting\n",
    "%matplotlib inline"
   ]
  },
  {
   "cell_type": "markdown",
   "metadata": {},
   "source": [
    "Let's dowload the data:"
   ]
  },
  {
   "cell_type": "code",
   "execution_count": 2,
   "metadata": {
    "collapsed": false
   },
   "outputs": [],
   "source": [
    "url = 'http://irafm.osu.cz/cif/cif-dataset.txt'\n",
    "\n",
    "data_df = pd.read_csv(url,sep=';',header=None)\n",
    "data_df=data_df.rename(columns={0: 'series', 1:'maxPredHorizon'})"
   ]
  },
  {
   "cell_type": "markdown",
   "metadata": {},
   "source": [
    "## Data preprocessing\n",
    "Forecasting time series with Machine Learning algorithms or Neural Networks requires a data preprocessing. This is typically done with a moving (or “rolling”) window along the time axis; at each step, constant size features (inputs) and outputs are extracted, and therefore each series will be a source of many input/output records. For networks with squashing functions like sigmoid, a normalization is often helpful, and it is more needed if we try to train a single network of this kind on many time series differing in size. Finally, for seasonal time series, although in theory a neural network should be able to deal with them well, it often pays off to remove the seasonality before applying a neural network. \n",
    "\n",
    "We start with applying logarithm and then we attempt to decompose a time series into seasonal, trend, and irregular components. The logarithm transformation provides two benefits: firstly, it is part of the normalization, secondly, it converts the normally additive seasonal decomposition into the multiplicative one (remember that log(x+y)=log(x)*log(y)), and the multiplicative seasonality is a safer assumption for non-stationary time series. A graph below illustrates this decomposition on one of the series:\n",
    "<img src=\"https://az712634.vo.msecnd.net/tutorials/Forecasting-Short-Time-Series-with-LSTM-Neural-Networks/3.png\", width=450, height=300>\n",
    "\n",
    "The competition dataset contains 72 time series with monthly seasonality. Large majority have medium size e.g. 84 points and the requested forecast horizon 12. In this tutorial we will not deal with a small subset of shorter time series with the forecast horizon of 6 - the general approach is the same, but dealing with them would double size of this tutorial."
   ]
  },
  {
   "cell_type": "code",
   "execution_count": 3,
   "metadata": {
    "collapsed": true
   },
   "outputs": [],
   "source": [
    "SEASONALITY=12\n",
    "OUTPUT_SIZE=12\n",
    "\n",
    "data_df=data_df[data_df['maxPredHorizon']==OUTPUT_SIZE] #limit to the majority of time series with maxPredHorizon=12\n",
    "dataNCol=data_df.shape[1]"
   ]
  },
  {
   "cell_type": "markdown",
   "metadata": {},
   "source": [
    "Mainly due to the relative shortness of the series, we will apply a simple preprocessing that involves moving look-back and forecast windows, normalization and deseasonalization. In this kind of simple preprocessing, the input size is equal to the size of the look back window. Choosing a right input size is not something obvious and best tried experimentally using the validation data set, but I would suggest following rules of thumb:\n",
    "* if a series is seasonal then the look back window should be equal or larger than seasonality (here 12), \n",
    "* in all cases the look back window should be, if possible, similar or larger than the maximum forecasting horizon (even for recurrent nets)\n",
    "Here I decided to use an input window that is 25% larger than the output window (forecasting horizon):"
   ]
  },
  {
   "cell_type": "code",
   "execution_count": 4,
   "metadata": {
    "collapsed": false
   },
   "outputs": [],
   "source": [
    "INPUT_SIZE_MULTIP=1.25  # using some reasoning and backesting, I decided to make input size a bit (here by 25%) larger than the maximum prediction horizon\n",
    "INPUT_SIZE=int(INPUT_SIZE_MULTIP*OUTPUT_SIZE)"
   ]
  },
  {
   "cell_type": "markdown",
   "metadata": {},
   "source": [
    "Back to preprocessing algorithm: After subtracting the seasonality, the moving window is applied covering 15 months (points). It is perhaps worth stressing: the input is 15-long vector and the output is 12-long vector, so we are forecasting the whole year ahead at once. This approach works better than trying to forecast just one month ahead – in such a case to get the required 12-step (month) ahead forecast we would need to do it 12 times, and use previous forecast as input 11 times. That leads to instability of the forecast.\n",
    "<img src=\"https://az712634.vo.msecnd.net/tutorials/Forecasting-Short-Time-Series-with-LSTM-Neural-Networks/4.png\", width=450, height=300>\n",
    "Then, the last value of trend inside the input window (the big filled dot above) is subtracted from all input and output values for normalization. Input and output windows move forward one step and the procedure is  repeated, until the last point of input window is positioned at lengthOfSeries-outputSize-1, e.g. here 53-12, in case of the training file, or until the last point of the output window equals the last point of the series, in case of the validation file. The validation file contains the training file, but actually only the last record of each series is used – the rest, although later forecasted, is discarded and only used as a “warm-up” region for the recurrent neural network used (LSTM). \n",
    "Apart from training and validation files, we also create the test file. It is used for the final forecast, it uses all data points as inputs; as for outputs, when they are unknown, they are just set to zeros - outputs in this file are not used anyway.\n",
    "\n",
    "The data preprocessing described here is relatively simple, it could have been more sophisticated, by including some other features of time series, like various statistical summaries, differences, and even other algorithm forecasts, which is a kind of ensemble learning. \n",
    "\n",
    "BTW, if we were working with longer time series, say 2 years of daily data, we should apply a more elaborate training and validation files creation: e.g. we would step through the data, e.g. in 30 days' steps, and for each step use past data for learning and then produce a forecast, repeating learning many times and saving results for an aggregate anaylsis.\n",
    "\n",
    "The data preparation below will take a few minutes. During first loop the validation and test files will be created, during the second loop, the training file.\n",
    "At the end you will see a graph illustrating the last successful decomposition."
   ]
  },
  {
   "cell_type": "code",
   "execution_count": 5,
   "metadata": {
    "collapsed": false
   },
   "outputs": [
    {
     "name": "stdout",
     "output_type": "stream",
     "text": [
      "v 0 ts1\n",
      "v 1 ts2\n",
      "v 2 ts3\n",
      "v 3 ts4\n",
      "v 4 ts5\n",
      "v 5 ts6\n",
      "v 6 ts7\n",
      "v 7 ts8\n",
      "v 8 ts9\n",
      "v 9 ts10\n",
      "v 10 ts11\n",
      "v 11 ts12\n",
      "v 12 ts13\n",
      "v 13 ts14\n",
      "v 14 ts15\n",
      "v 15 ts16\n",
      "v 16 ts17\n",
      "v 17 ts18\n",
      "v 18 ts19\n",
      "v 19 ts20\n",
      "v 20 ts21\n",
      "v 21 ts22\n",
      "v 22 ts23\n",
      "v 23 ts24\n",
      "v 24 ts25\n",
      "v 25 ts26\n",
      "v 26 ts27\n",
      "v 27 ts28\n",
      "v 28 ts29\n",
      "v 29 ts30\n",
      "v 30 ts31\n",
      "v 31 ts32\n",
      "v 32 ts33\n",
      "v 33 ts34\n",
      "v 34 ts35\n",
      "v 35 ts36\n",
      "v 36 ts37\n",
      "v 37 ts38\n",
      "v 38 ts39\n",
      "v 39 ts40\n",
      "v 40 ts41\n",
      "v 41 ts42\n",
      "v 42 ts43\n",
      "v 43 ts44\n",
      "v 44 ts45\n",
      "v 45 ts46\n",
      "v 46 ts47\n",
      "v 47 ts48\n",
      "v 48 ts51\n",
      "v 49 ts52\n",
      "v 50 ts53\n",
      "v 51 ts59\n",
      "v 52 ts61\n",
      "v 53 ts62\n",
      "v 54 ts63\n",
      "v 55 ts64\n",
      "v 56 ts66\n",
      "tr 0 ts1\n",
      "tr 1 ts2\n",
      "tr 2 ts3\n",
      "tr 3 ts4\n",
      "tr 4 ts5\n",
      "tr 5 ts6\n",
      "tr 6 ts7\n",
      "tr 7 ts8\n",
      "tr 8 ts9\n",
      "tr 9 ts10\n",
      "tr 10 ts11\n",
      "tr 11 ts12\n",
      "tr 12 ts13\n",
      "tr 13 ts14\n",
      "tr 14 ts15\n",
      "tr 15 ts16\n",
      "tr 16 ts17\n",
      "tr 17 ts18\n",
      "tr 18 ts19\n",
      "tr 19 ts20\n",
      "tr 20 ts21\n",
      "tr 21 ts22\n",
      "tr 22 ts23\n",
      "tr 23 ts24\n",
      "tr 24 ts25\n",
      "tr 25 ts26\n",
      "tr 26 ts27\n",
      "tr 27 ts28\n",
      "tr 28 ts29\n",
      "tr 29 ts30\n",
      "tr 30 ts31\n",
      "tr 31 ts32\n",
      "tr 32 ts33\n",
      "tr 33 ts34\n",
      "tr 34 ts35\n",
      "tr 35 ts36\n",
      "tr 36 ts37\n",
      "tr 37 ts38\n",
      "tr 38 ts39\n",
      "tr 39 ts40\n",
      "tr 40 ts41\n",
      "tr 41 ts42\n",
      "tr 42 ts43\n",
      "tr 43 ts44\n",
      "tr 44 ts45\n",
      "tr 45 ts46\n",
      "tr 46 ts47\n",
      "tr 47 ts48\n",
      "tr 48 ts51\n",
      "tr 49 ts52\n",
      "tr 50 ts53\n",
      "tr 51 ts59\n",
      "tr 52 ts61\n",
      "tr 53 ts62\n",
      "tr 54 ts63\n",
      "tr 55 ts64\n",
      "tr 56 ts66\n"
     ]
    },
    {
     "data": {
      "image/png": "[encoded data removed]",
      "text/plain": [
       "<matplotlib.figure.Figure at 0x207a4b2ae48>"
      ]
     },
     "metadata": {},
     "output_type": "display_data"
    }
   ],
   "source": [
    "train_df=None; valid_df=None; test_df=None \n",
    "#ir=0; validation=True\n",
    "for validation in [True,False]:\n",
    "  for ir in range(data_df.shape[0]):\n",
    "    oneLine_df=data_df.iloc[ir,:]\n",
    "    series=oneLine_df['series']\n",
    "    if (validation):\n",
    "      print('v', ir, series)\n",
    "    else:\n",
    "      print('tr', ir, series)\n",
    "    y=np.float32(oneLine_df.iloc[4:dataNCol])\n",
    "    y=y[~np.isnan(y)]\n",
    "    ylog=np.log(y)\n",
    "    n=y.shape[0]\n",
    "    if (not validation):\n",
    "      n=n-OUTPUT_SIZE\n",
    "      ylog=ylog[range(n)]\n",
    "    \n",
    "    seasons, trend = fit_seasons(ylog,period=SEASONALITY)\n",
    "    if seasons is not None:\n",
    "      adjusted = adjust_seasons(ylog, seasons=seasons)\n",
    "      plt.clf()\n",
    "      plt.plot(ylog, label='data')\n",
    "      plt.plot(trend, label='trend')\n",
    "      plt.plot(seasons+np.min(trend), label='seasonality+minLevel')\n",
    "      plt.legend(loc='lower right')\n",
    "      plt.title(series)\n",
    "      plt.pause(0.0001)\n",
    "      seasonality_vect=(ylog-adjusted)\n",
    "    else:\n",
    "      trend=ylog\n",
    "      adjusted=ylog\n",
    "      seasonality_vect=np.zeros(n)\n",
    "    \n",
    "    save_df=None #inn=INPUT_SIZE-1\n",
    "    for inn in range(INPUT_SIZE-1,(n-OUTPUT_SIZE)):\n",
    "      level=trend[inn] #last \"trend\" point in the input window is the \"level\" (the value used for the normalization)\n",
    "      sav_df=pd.DataFrame(data=[series], columns=['series'])\n",
    "      for ii in range(1,INPUT_SIZE+1):\n",
    "        sav_df['i'+str(ii)]=adjusted[inn-INPUT_SIZE+ii]-level  #inputs: past values normalized by the level\n",
    "      for ii in range(1,OUTPUT_SIZE+1):\n",
    "        sav_df['o'+str(ii)]=adjusted[inn+ii]-level #outputs: future values normalized by the level.\n",
    "      #what follows will not be used for training or prediction, it will be used for error calculation\n",
    "      sav_df['level']=level\n",
    "      for ii in range(1,OUTPUT_SIZE+1):\n",
    "        sav_df['s'+str(ii)]=seasonality_vect[inn+ii]\n",
    "      for ii in range(1,INPUT_SIZE+OUTPUT_SIZE+1):\n",
    "        sav_df['t'+str(ii)]=y[inn+ii-INPUT_SIZE]   #actuals\n",
    "      if save_df is None:\n",
    "        save_df=sav_df\n",
    "      else:\n",
    "        save_df=save_df.append(sav_df)\n",
    "    #print(save_df.to_string())\n",
    "    if validation:\n",
    "      if valid_df is None:\n",
    "        valid_df=save_df\n",
    "        test_df=save_df\n",
    "      else:\n",
    "        valid_df=valid_df.append(save_df)\n",
    "        test_df=test_df.append(save_df)\n",
    "    else:\n",
    "      if train_df is None:\n",
    "        train_df=save_df\n",
    "      else:\n",
    "        train_df=train_df.append(save_df)\n",
    "        \n",
    "    if validation:    #rest of test\n",
    "      save_df=None\n",
    "      for inn in range((n-OUTPUT_SIZE),n):\n",
    "        level=trend[inn] #last \"trend\" point in the input window is the \"level\" (the value used for the normalization)\n",
    "        sav_df=pd.DataFrame(data=[series], columns=['series'])\n",
    "        for ii in range(1,INPUT_SIZE+1):\n",
    "          sav_df['i'+str(ii)]=adjusted[inn-INPUT_SIZE+ii]-level  #inputs: past values normalized by the level\n",
    "        for ii in range(1,OUTPUT_SIZE+1):\n",
    "          sav_df['o'+str(ii)]=0 #unknown value\n",
    "        #what follows will not be used for training or prediction, it will be used for error calculation\n",
    "        sav_df['level']=level\n",
    "        for ii in range(1,OUTPUT_SIZE+1):\n",
    "          indx=inn+ii\n",
    "          while indx>=n:\n",
    "            indx=indx-SEASONALITY  \n",
    "          sav_df['s'+str(ii)]=seasonality_vect[indx]\n",
    "        for ii in range(1,INPUT_SIZE+OUTPUT_SIZE+1):\n",
    "          sav_df['t'+str(ii)]=0   #unknown actuals\n",
    "        if save_df is None:\n",
    "          save_df=sav_df\n",
    "        else:\n",
    "          save_df=save_df.append(sav_df)\n",
    "      test_df=test_df.append(save_df)      # print(train_df.shape, valid_df.shape, test_df.shape)\n"
   ]
  },
  {
   "cell_type": "markdown",
   "metadata": {},
   "source": [
    "Now, let's save the three files into a data directory."
   ]
  },
  {
   "cell_type": "code",
   "execution_count": 8,
   "metadata": {
    "collapsed": false
   },
   "outputs": [
    {
     "name": "stdout",
     "output_type": "stream",
     "text": [
      "making ./data/CIF_data\n"
     ]
    }
   ],
   "source": [
    "data_dir = './data/CIF_data'\n",
    "if not os.path.exists(data_dir):\n",
    "  print(\"making \"+data_dir)\n",
    "  os.mkdir(data_dir)   \n",
    "\n",
    "train_filename = data_dir + '/train.csv'\n",
    "validation_filename = data_dir + '/validation.csv'\n",
    "test_filename = data_dir + '/test.csv'\n",
    "    \n",
    "train_df.to_csv(path_or_buf=train_filename, index=False) \n",
    "valid_df.to_csv(path_or_buf=validation_filename, index=False) \n",
    "test_df.to_csv(path_or_buf=test_filename, index=False) "
   ]
  },
  {
   "cell_type": "code",
   "execution_count": null,
   "metadata": {
    "collapsed": true
   },
   "outputs": [],
   "source": []
  }
 ],
 "metadata": {
  "anaconda-cloud": {},
  "kernelspec": {
   "display_name": "Python 3",
   "language": "python",
   "name": "python3"
  },
  "language_info": {
   "codemirror_mode": {
    "name": "ipython",
    "version": 3
   },
   "file_extension": ".py",
   "mimetype": "text/x-python",
   "name": "python",
   "nbconvert_exporter": "python",
   "pygments_lexer": "ipython3",
   "version": "3.5.2"
  }
 },
 "nbformat": 4,
 "nbformat_minor": 1
}
